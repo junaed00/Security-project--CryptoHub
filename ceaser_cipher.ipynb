{
  "cells": [
    {
      "cell_type": "code",
      "source": [
        "def input_text_from_file(file_name):\n",
        "    with open(file_name, 'r') as file:\n",
        "        return file.read()\n",
        "\n",
        "def output_text_to_file(file_name, text):\n",
        "    with open(file_name, 'w') as file:\n",
        "        file.write(text)\n"
      ],
      "metadata": {
        "id": "wQpMAv1mCS5G"
      },
      "execution_count": 13,
      "outputs": []
    },
    {
      "cell_type": "code",
      "source": [
        "def caesar_encryption():\n",
        "    key = int(input(\"Enter the key value (integer): \"))\n",
        "    input_text = input_text_from_file(\"/content/in.txt\")\n",
        "    cipher_text = \"\"\n",
        "    for char in input_text:\n",
        "        if char.isalpha():\n",
        "            shift = key % 26\n",
        "            if char.islower():\n",
        "                encrypted_char = chr((ord(char) - ord('a') + shift) % 26 + ord('a'))\n",
        "            else:\n",
        "                encrypted_char = chr((ord(char) - ord('A') + shift) % 26 + ord('A'))\n",
        "            cipher_text += encrypted_char\n",
        "        else:\n",
        "            cipher_text += char\n",
        "    output_text_to_file(\"/content/out.txt\", cipher_text)\n",
        "    print(\"Encrypted text written to out.txt\")\n"
      ],
      "metadata": {
        "id": "1TwhnxA-CR8o"
      },
      "execution_count": 14,
      "outputs": []
    },
    {
      "cell_type": "code",
      "source": [
        "caesar_encryption()"
      ],
      "metadata": {
        "id": "WfsBG6qIHIzq",
        "outputId": "fc48b76b-2a2d-4d05-8f52-5046f9bca1d9",
        "colab": {
          "base_uri": "https://localhost:8080/"
        }
      },
      "execution_count": 15,
      "outputs": [
        {
          "output_type": "stream",
          "name": "stdout",
          "text": [
            "Enter the key value (integer): 3\n",
            "Encrypted text written to out.txt\n"
          ]
        }
      ]
    },
    {
      "cell_type": "code",
      "source": [
        "def caesar_decryption():\n",
        "    key = int(input(\"Enter the key value (integer): \"))\n",
        "    cipher_text = input_text_from_file(\"/content/in.txt\")\n",
        "    plain_text = \"\"\n",
        "    for char in cipher_text:\n",
        "        if char.isalpha():\n",
        "            shift = key % 26\n",
        "            if char.islower():\n",
        "                decrypted_char = chr((ord(char) - ord('a') - shift) % 26 + ord('a'))\n",
        "            else:\n",
        "                decrypted_char = chr((ord(char) - ord('A') - shift) % 26 + ord('A'))\n",
        "            plain_text += decrypted_char\n",
        "        else:\n",
        "            plain_text += char\n",
        "    output_text_to_file(\"/content/out.txt\", plain_text)\n",
        "    print(\"Decrypted text written to out.txt\")"
      ],
      "metadata": {
        "id": "WTcFlpLhJFK3"
      },
      "execution_count": 16,
      "outputs": []
    },
    {
      "cell_type": "code",
      "source": [
        "caesar_decryption()"
      ],
      "metadata": {
        "colab": {
          "base_uri": "https://localhost:8080/"
        },
        "id": "P4fYbLg6JeKm",
        "outputId": "7a72815c-d9dd-46e5-fc56-3cd27328c6e7"
      },
      "execution_count": 17,
      "outputs": [
        {
          "output_type": "stream",
          "name": "stdout",
          "text": [
            "Enter the key value (integer): 1\n",
            "Decrypted text written to out.txt\n"
          ]
        }
      ]
    }
  ],
  "metadata": {
    "colab": {
      "provenance": []
    },
    "kernelspec": {
      "display_name": "Python 3",
      "name": "python3"
    }
  },
  "nbformat": 4,
  "nbformat_minor": 0
}