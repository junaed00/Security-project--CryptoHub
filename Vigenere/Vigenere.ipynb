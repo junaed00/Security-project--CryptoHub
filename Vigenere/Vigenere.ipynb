{
 "cells": [
  {
   "cell_type": "code",
   "execution_count": 50,
   "id": "7fcf18f1",
   "metadata": {},
   "outputs": [],
   "source": [
    "def key_make(key):\n",
    "    key1= key\n",
    "    n=len(key)\n",
    "    m= len(text)\n",
    "    while(m<n):\n",
    "        key1+= key[i%len(key)]\n",
    "        i+=1\n",
    "        n+=1\n",
    "    \n"
   ]
  },
  {
   "cell_type": "code",
   "execution_count": 51,
   "id": "6e72ba36",
   "metadata": {},
   "outputs": [],
   "source": [
    "def de(x,k):\n",
    "    \n",
    "    return chr((((ord(x)-ord('a'))-(ord(k)-ord('a')))%26)+ord('a'))\n",
    "\n",
    "def en(x,k):\n",
    "    return chr((((ord(x)-ord('a'))+(ord(k)-ord('a')))%26)+ord('a'))"
   ]
  },
  {
   "cell_type": "code",
   "execution_count": 52,
   "id": "fc2f8fe7",
   "metadata": {},
   "outputs": [],
   "source": [
    "def encryption(text,key):\n",
    "    l = []\n",
    "    i = 0\n",
    "\n",
    "    for c in text:\n",
    "        if c.isalpha():\n",
    "            l.append(en(c,key1[i]))\n",
    "            i += 1\n",
    "        else:\n",
    "            l.append(c)\n",
    "\n",
    "    ciphertext = ''.join(l)      \n",
    "    #print(''.join(l))\n",
    "    output_file_path = input('Output File name :')  # Replace with the actual path to your input file\n",
    "\n",
    "\n",
    "    # The text you want to save\n",
    "    text_to_save = ciphertext\n",
    "\n",
    "    # Open the output file in write mode\n",
    "    with open(output_file_path, 'w') as file:\n",
    "        # Write the text content to the file\n",
    "        file.write(text_to_save)\n",
    "\n",
    "    return ciphertext"
   ]
  },
  {
   "cell_type": "code",
   "execution_count": 53,
   "id": "2bda35fb",
   "metadata": {},
   "outputs": [],
   "source": [
    "#Encryption\n",
    "def vig_enc():\n",
    "    file_path = input('Input File name :')  # Replace with the actual path to your input file\n",
    "\n",
    "    # Read the lines from the input file and store them in a list\n",
    "    with open(file_path, 'r') as file:\n",
    "        lines = file.readlines()\n",
    "\n",
    "    # Combine the lines into a single text variable\n",
    "    text = ''.join(lines)\n",
    "    key = input(\"Enter key: \")\n",
    "    ct=encryption(text,key_make(key))\n",
    "    print(\"cipher text \"+ct)\n"
   ]
  },
  {
   "cell_type": "code",
   "execution_count": 54,
   "id": "76a39588",
   "metadata": {},
   "outputs": [],
   "source": [
    "def decryption(text,key):\n",
    "    l = []\n",
    "    i = 0\n",
    "\n",
    "    for c in text:\n",
    "        if c.isalpha():\n",
    "            l.append(de(c,key1[i]))\n",
    "            i += 1\n",
    "        else:\n",
    "            l.append(c)\n",
    "\n",
    "    ciphertext = ''.join(l)      \n",
    "    #print(''.join(l))\n",
    "    output_file_path = input('Output File name :')  # Replace with the actual path to your input file\n",
    "\n",
    "\n",
    "    # The text you want to save\n",
    "    text_to_save = ciphertext\n",
    "\n",
    "    # Open the output file in write mode\n",
    "    with open(output_file_path, 'w') as file:\n",
    "        # Write the text content to the file\n",
    "        file.write(text_to_save)\n",
    "\n",
    "    return ciphertext\n",
    "\n"
   ]
  },
  {
   "cell_type": "code",
   "execution_count": 55,
   "id": "8d2e2da3",
   "metadata": {},
   "outputs": [],
   "source": [
    "#Decrypt\n",
    "def vig_dec():\n",
    "    file_path = input('Input File name :')  # Replace with the actual path to your input file\n",
    "\n",
    "    # Read the lines from the input file and store them in a list\n",
    "    with open(file_path, 'r') as file:\n",
    "        lines = file.readlines()\n",
    "\n",
    "    # Combine the lines into a single text variable\n",
    "    text = ''.join(lines)\n",
    "    key = input(\"Enter key: \")\n",
    "    ct=decryption(text,key_make(key))\n",
    "    print(\"Plain text \"+ct)"
   ]
  },
  {
   "cell_type": "code",
   "execution_count": 56,
   "id": "635152a8",
   "metadata": {},
   "outputs": [
    {
     "name": "stdout",
     "output_type": "stream",
     "text": [
      "Input File name :input.txt\n",
      "Enter key: xyz\n",
      "Output File name :output.txt\n",
      "cipher text gik\n"
     ]
    }
   ],
   "source": [
    "vig_enc()"
   ]
  },
  {
   "cell_type": "code",
   "execution_count": 57,
   "id": "be1f8f22",
   "metadata": {},
   "outputs": [
    {
     "name": "stdout",
     "output_type": "stream",
     "text": [
      "Input File name :output.txt\n",
      "Enter key: xyz\n",
      "Output File name :input.txt\n",
      "Plain text def\n"
     ]
    }
   ],
   "source": [
    "vig_dec()"
   ]
  },
  {
   "cell_type": "code",
   "execution_count": null,
   "id": "a7449ea4",
   "metadata": {},
   "outputs": [],
   "source": []
  }
 ],
 "metadata": {
  "kernelspec": {
   "display_name": "Python 3 (ipykernel)",
   "language": "python",
   "name": "python3"
  },
  "language_info": {
   "codemirror_mode": {
    "name": "ipython",
    "version": 3
   },
   "file_extension": ".py",
   "mimetype": "text/x-python",
   "name": "python",
   "nbconvert_exporter": "python",
   "pygments_lexer": "ipython3",
   "version": "3.9.12"
  }
 },
 "nbformat": 4,
 "nbformat_minor": 5
}
