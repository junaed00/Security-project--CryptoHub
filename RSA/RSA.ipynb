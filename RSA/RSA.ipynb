{
  "cells": [
    {
      "cell_type": "code",
      "execution_count": 1,
      "metadata": {
        "id": "e1Vo3LaYbM9o"
      },
      "outputs": [],
      "source": [
        "import math\n",
        "def findP(n):\n",
        "  for i in range(2,n+1):\n",
        "    if ((n%i) == 0):\n",
        "      return i\n",
        "  return 1\n",
        "\n",
        "def extended_gcd(a, b):\n",
        "    if a == 0:\n",
        "        return (b, 0, 1)\n",
        "    else:\n",
        "        gcd, x1, y1 = extended_gcd(b % a, a)\n",
        "        x = y1 - (b // a) * x1\n",
        "        y = x1\n",
        "        return (gcd, x, y)\n",
        "\n",
        "def find_modular_inverse(a, m):\n",
        "    gcd, x, y = extended_gcd(a, m)\n",
        "    if gcd != 1:\n",
        "        raise ValueError(f\"The modular inverse of {a} modulo {m} does not exist.\")\n",
        "    return x % m\n",
        "\n",
        "def bigmod(a, b, m):\n",
        "    if b == 0:\n",
        "        return 1 % m\n",
        "    if b % 2 == 0:\n",
        "        # If b is even, use the property (a^b) % m = ((a^(b/2)) % m * (a^(b/2)) % m) % m\n",
        "        temp = bigmod(a, b // 2, m)\n",
        "        return (temp * temp) % m\n",
        "    else:\n",
        "        # If b is odd, use the property (a^b) % m = (a % m * (a^(b-1)) % m) % m\n",
        "        temp = bigmod(a, b - 1, m)\n",
        "        return (a % m * temp) % m\n",
        "\n",
        "def encrypt(m, e, n):\n",
        "    encrypted_values = []\n",
        "    for char in m:\n",
        "        val = ord(char) - ord('a') + 1\n",
        "        ans = bigmod(val, e, n)\n",
        "        encrypted_values.append(ans)\n",
        "    return encrypted_values\n",
        "\n",
        "def decrypt(ch, d, n):\n",
        "  s = \"\"\n",
        "  for c in ch:\n",
        "    ans = bigmod(c,d,n)\n",
        "    s+= chr(ans-1+ ord('a'))\n",
        "\n",
        "  return s\n",
        "\n",
        "def find_relatively_prime_numbers(n):\n",
        "    relatively_prime = 0\n",
        "\n",
        "    for i in range(1, n):\n",
        "        if math.gcd(n, i) == 1:\n",
        "            relatively_prime = i\n",
        "            return relatively_prime\n",
        "\n",
        "\n"
      ]
    },
    {
      "cell_type": "code",
      "execution_count": 2,
      "metadata": {
        "id": "WaGIc0ezdKBz"
      },
      "outputs": [
        {
          "name": "stdout",
          "output_type": "stream",
          "text": [
            "72\n",
            "1\n",
            "[8, 5, 12, 12, 15, 4, 1, 18, 11, 14, 5, 19, 19] and private key is 1\n"
          ]
        }
      ],
      "source": [
        "n = int(input('Enter a value:'));\n",
        "p = findP(n)\n",
        "q = n/ p\n",
        "phi = int((p-1) * (q-1));\n",
        "print(phi)\n",
        "e = find_relatively_prime_numbers(phi);\n",
        "print(e)\n",
        "d = find_modular_inverse(e,phi)\n",
        "\n",
        "filePath = input('File name: ')\n",
        "\n",
        "with open(filePath,'r') as file:\n",
        "    plainTxt = file.read()\n",
        "\n",
        "encryptedMsg = encrypt(plainTxt,e,n)\n",
        "print(f'{encryptedMsg} and private key is {d}')"
      ]
    },
    {
      "cell_type": "code",
      "execution_count": 3,
      "metadata": {
        "id": "Dv3YArDZdiDJ"
      },
      "outputs": [],
      "source": [
        "decryptedMsg = decrypt(encryptedMsg,d,n)\n",
        "file_path = input('Enter file name: ')\n",
        "d = int(input(\"Enter private key :\"))\n",
        "\n",
        "with open(file_path, 'a') as file:\n",
        "    file.write(decryptedMsg + '\\n')"
      ]
    },
    {
      "cell_type": "code",
      "execution_count": 15,
      "metadata": {
        "colab": {
          "base_uri": "https://localhost:8080/",
          "height": 35
        },
        "id": "3Rqin4AIdkeY",
        "outputId": "610e98ba-8d72-4ea9-fea3-047d0c0567e9"
      },
      "outputs": [
        {
          "data": {
            "text/plain": [
              "'hellodarkness'"
            ]
          },
          "execution_count": 15,
          "metadata": {},
          "output_type": "execute_result"
        }
      ],
      "source": [
        "decryptedMsg"
      ]
    },
    {
      "cell_type": "code",
      "execution_count": null,
      "metadata": {
        "id": "fb-jAAoVeC4E"
      },
      "outputs": [],
      "source": []
    }
  ],
  "metadata": {
    "colab": {
      "provenance": []
    },
    "kernelspec": {
      "display_name": "Python 3",
      "name": "python3"
    },
    "language_info": {
      "codemirror_mode": {
        "name": "ipython",
        "version": 3
      },
      "file_extension": ".py",
      "mimetype": "text/x-python",
      "name": "python",
      "nbconvert_exporter": "python",
      "pygments_lexer": "ipython3",
      "version": "3.9.10"
    }
  },
  "nbformat": 4,
  "nbformat_minor": 0
}
